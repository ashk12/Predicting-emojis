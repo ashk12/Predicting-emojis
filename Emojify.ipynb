{
 "cells": [
  {
   "cell_type": "code",
   "execution_count": 64,
   "metadata": {},
   "outputs": [],
   "source": [
    "import numpy as np\n",
    "import csv\n",
    "import emoji\n",
    "import tensorflow as tf\n",
    "from keras.models import Model\n",
    "from keras.layers import Dense, Input, Dropout, LSTM, Activation\n",
    "from keras.layers.embeddings import Embedding\n",
    "from keras.preprocessing import sequence\n",
    "from keras.initializers import glorot_uniform"
   ]
  },
  {
   "cell_type": "markdown",
   "metadata": {},
   "source": [
    "# Loading Dataset"
   ]
  },
  {
   "cell_type": "code",
   "execution_count": 65,
   "metadata": {},
   "outputs": [],
   "source": [
    "def read_csv(filename = 'data/emojify_data.csv'):\n",
    "    phrase = []\n",
    "    emoji = []\n",
    "\n",
    "    with open (filename) as csvDataFile:\n",
    "        csvReader = csv.reader(csvDataFile)\n",
    "\n",
    "        for row in csvReader:\n",
    "            phrase.append(row[0])\n",
    "            emoji.append(row[1])\n",
    "\n",
    "    X = np.asarray(phrase)\n",
    "    Y = np.asarray(emoji, dtype=int)\n",
    "\n",
    "    return X, Y"
   ]
  },
  {
   "cell_type": "code",
   "execution_count": 66,
   "metadata": {},
   "outputs": [],
   "source": [
    "X_train , y_train = read_csv('train_emoji.csv')\n",
    "X_test , y_test = read_csv('test_emoji.csv')"
   ]
  },
  {
   "cell_type": "code",
   "execution_count": 67,
   "metadata": {},
   "outputs": [
    {
     "name": "stdout",
     "output_type": "stream",
     "text": [
      "X_train:  (132,)\n",
      "y_train:  (132,)\n",
      "X_test:  (56,)\n",
      "y_test:  (56,)\n"
     ]
    }
   ],
   "source": [
    "print(\"X_train: \",X_train.shape)\n",
    "print(\"y_train: \",y_train.shape)\n",
    "print(\"X_test: \",X_test.shape)\n",
    "print(\"y_test: \",y_test.shape)"
   ]
  },
  {
   "cell_type": "code",
   "execution_count": 68,
   "metadata": {},
   "outputs": [],
   "source": [
    "emoji_dictionary = {\"0\": \"\\u2764\\uFE0F\",    \n",
    "                    \"1\": \":baseball:\",\n",
    "                    \"2\": \":smile:\",\n",
    "                    \"3\": \":disappointed:\",\n",
    "                    \"4\": \":fork_and_knife:\"}"
   ]
  },
  {
   "cell_type": "code",
   "execution_count": 69,
   "metadata": {},
   "outputs": [],
   "source": [
    "def label_to_emoji(label):\n",
    "    return emoji.emojize(emoji_dictionary[str(label)], use_aliases=True)"
   ]
  },
  {
   "cell_type": "code",
   "execution_count": 70,
   "metadata": {},
   "outputs": [
    {
     "name": "stdout",
     "output_type": "stream",
     "text": [
      "food is life 🍴\n"
     ]
    }
   ],
   "source": [
    "print(X_train[4],label_to_emoji(y_train[4]))"
   ]
  },
  {
   "cell_type": "markdown",
   "metadata": {},
   "source": [
    "# Glove Vectors"
   ]
  },
  {
   "cell_type": "code",
   "execution_count": 71,
   "metadata": {},
   "outputs": [],
   "source": [
    "def read_glove_vecs(glove_file):\n",
    "    with open(glove_file, 'r',encoding = 'utf8') as f:\n",
    "        words = set()\n",
    "        word_to_vec_map = {}\n",
    "        for line in f:\n",
    "            line = line.strip().split()\n",
    "            curr_word = line[0]\n",
    "            words.add(curr_word)\n",
    "            word_to_vec_map[curr_word] = np.array(line[1:], dtype=np.float64)\n",
    "        \n",
    "        i = 1\n",
    "        words_to_index = {}\n",
    "        index_to_words = {}\n",
    "        for w in sorted(words):\n",
    "            words_to_index[w] = i\n",
    "            index_to_words[i] = w\n",
    "            i = i + 1\n",
    "    return words_to_index, index_to_words, word_to_vec_map"
   ]
  },
  {
   "cell_type": "code",
   "execution_count": 72,
   "metadata": {},
   "outputs": [],
   "source": [
    "word_to_index, index_to_word, word_to_vec_map = read_glove_vecs('glove.6B.50d.txt')"
   ]
  },
  {
   "cell_type": "code",
   "execution_count": 73,
   "metadata": {},
   "outputs": [
    {
     "name": "stdout",
     "output_type": "stream",
     "text": [
      "the index of food in the vocabulary is 151204\n",
      "the 289846th word in the vocabulary is potatos\n"
     ]
    }
   ],
   "source": [
    "word = \"food\"\n",
    "index = 289846\n",
    "print(\"the index of\", word, \"in the vocabulary is\", word_to_index[word])\n",
    "print(\"the\", str(index) + \"th word in the vocabulary is\", index_to_word[index])"
   ]
  },
  {
   "cell_type": "code",
   "execution_count": 74,
   "metadata": {},
   "outputs": [],
   "source": [
    "max_len = maxLen = len(max(X_train, key=len).split())"
   ]
  },
  {
   "cell_type": "code",
   "execution_count": 75,
   "metadata": {},
   "outputs": [],
   "source": [
    "def sentences_to_indices(X, word_to_index, max_len):\n",
    "    \n",
    "    m = X.shape[0]                                   \n",
    "    X_indices = np.zeros(shape=(m, max_len))\n",
    "    \n",
    "    for i in range(m):                               \n",
    "        \n",
    "        sentence_words = (X[i].lower()).split()\n",
    "        j = 0\n",
    "        for w in sentence_words:\n",
    "            X_indices[i, j] = word_to_index[w]\n",
    "            j = j + 1\n",
    "            \n",
    "    return X_indices"
   ]
  },
  {
   "cell_type": "code",
   "execution_count": 76,
   "metadata": {},
   "outputs": [],
   "source": [
    "def convert_to_one_hot(Y, C):\n",
    "    Y = np.eye(C)[Y.reshape(-1)]\n",
    "    return Y"
   ]
  },
  {
   "cell_type": "code",
   "execution_count": 77,
   "metadata": {},
   "outputs": [],
   "source": [
    "def emb_matrix(word_to_vec_map , word_to_index):\n",
    "    \n",
    "    vocab_len = len(word_to_index) + 1                  \n",
    "    emb_dim = word_to_vec_map[\"food\"].shape[0]\n",
    "    emb_matrix = np.zeros(shape=(vocab_len, emb_dim))\n",
    "    for word, index in word_to_index.items():\n",
    "        emb_matrix[index, :] = word_to_vec_map[word]\n",
    "    return emb_matrix"
   ]
  },
  {
   "cell_type": "markdown",
   "metadata": {},
   "source": [
    "# Model"
   ]
  },
  {
   "cell_type": "code",
   "execution_count": 78,
   "metadata": {},
   "outputs": [],
   "source": [
    "def Emojify(Input_shape , word_to_vec_map , word_to_index):\n",
    "    \n",
    "    vocab_len = len(word_to_index) + 1\n",
    "    emb_dim = word_to_vec_map[\"food\"].shape[0]\n",
    "    \n",
    "    sentence_indices = Input(Input_shape)\n",
    "    embedding_layer = Embedding(vocab_len, emb_dim, trainable=False)\n",
    "    embedding_layer.build((None,))\n",
    "    embedding_layer.set_weights([emb_matrix(word_to_vec_map,word_to_index)])\n",
    "    embeddings = embedding_layer(sentence_indices)\n",
    "    \n",
    "    X = LSTM(128 , return_sequences = True)(embeddings)\n",
    "    X = Dropout(0.5)(X)\n",
    "    X = LSTM(128 , return_sequences = True)(X)\n",
    "    X = Dropout(0.5)(X)\n",
    "    X = LSTM(128 , return_sequences = False)(X)\n",
    "    X = Dropout(0.5)(X)\n",
    "    X = Dense(128,activation = 'relu')(X)\n",
    "    X = Dense(128 , activation = 'relu')(X)\n",
    "    X = Dense(5 , activation = 'softmax')(X)\n",
    "    \n",
    "    model = Model(sentence_indices , X)\n",
    "    return model"
   ]
  },
  {
   "cell_type": "code",
   "execution_count": 79,
   "metadata": {},
   "outputs": [],
   "source": [
    "model = Emojify((max_len) , word_to_vec_map , word_to_index)"
   ]
  },
  {
   "cell_type": "code",
   "execution_count": 80,
   "metadata": {},
   "outputs": [],
   "source": [
    "model.compile(loss = 'categorical_crossentropy' , optimizer = 'adam' , metrics = ['accuracy'])"
   ]
  },
  {
   "cell_type": "code",
   "execution_count": 81,
   "metadata": {},
   "outputs": [],
   "source": [
    "X_train_ind = sentences_to_indices(X_train , word_to_index , max_len)\n",
    "y_train_hot = convert_to_one_hot(y_train , 5)\n",
    "X_test_ind = sentences_to_indices(X_test , word_to_index , max_len)\n",
    "y_test_hot = convert_to_one_hot(y_test , 5)"
   ]
  },
  {
   "cell_type": "code",
   "execution_count": 82,
   "metadata": {},
   "outputs": [
    {
     "name": "stdout",
     "output_type": "stream",
     "text": [
      "Epoch 1/50\n",
      "5/5 [==============================] - 0s 18ms/step - loss: 1.6022 - accuracy: 0.2652\n",
      "Epoch 2/50\n",
      "5/5 [==============================] - 0s 17ms/step - loss: 1.5620 - accuracy: 0.2879\n",
      "Epoch 3/50\n",
      "5/5 [==============================] - 0s 16ms/step - loss: 1.5358 - accuracy: 0.3106\n",
      "Epoch 4/50\n",
      "5/5 [==============================] - 0s 15ms/step - loss: 1.5029 - accuracy: 0.3030\n",
      "Epoch 5/50\n",
      "5/5 [==============================] - 0s 16ms/step - loss: 1.4624 - accuracy: 0.3258\n",
      "Epoch 6/50\n",
      "5/5 [==============================] - 0s 15ms/step - loss: 1.3840 - accuracy: 0.3106\n",
      "Epoch 7/50\n",
      "5/5 [==============================] - 0s 15ms/step - loss: 1.3020 - accuracy: 0.3788\n",
      "Epoch 8/50\n",
      "5/5 [==============================] - 0s 15ms/step - loss: 1.1663 - accuracy: 0.5379\n",
      "Epoch 9/50\n",
      "5/5 [==============================] - 0s 14ms/step - loss: 1.0830 - accuracy: 0.5682\n",
      "Epoch 10/50\n",
      "5/5 [==============================] - 0s 15ms/step - loss: 1.0242 - accuracy: 0.5833\n",
      "Epoch 11/50\n",
      "5/5 [==============================] - 0s 15ms/step - loss: 0.9458 - accuracy: 0.6742\n",
      "Epoch 12/50\n",
      "5/5 [==============================] - 0s 15ms/step - loss: 0.8029 - accuracy: 0.6970\n",
      "Epoch 13/50\n",
      "5/5 [==============================] - 0s 15ms/step - loss: 0.8410 - accuracy: 0.7045\n",
      "Epoch 14/50\n",
      "5/5 [==============================] - 0s 15ms/step - loss: 0.8552 - accuracy: 0.6288\n",
      "Epoch 15/50\n",
      "5/5 [==============================] - 0s 15ms/step - loss: 0.6823 - accuracy: 0.7197\n",
      "Epoch 16/50\n",
      "5/5 [==============================] - 0s 15ms/step - loss: 0.6159 - accuracy: 0.8030\n",
      "Epoch 17/50\n",
      "5/5 [==============================] - 0s 16ms/step - loss: 0.5300 - accuracy: 0.7803\n",
      "Epoch 18/50\n",
      "5/5 [==============================] - 0s 15ms/step - loss: 0.5123 - accuracy: 0.7879\n",
      "Epoch 19/50\n",
      "5/5 [==============================] - 0s 15ms/step - loss: 0.3998 - accuracy: 0.8333\n",
      "Epoch 20/50\n",
      "5/5 [==============================] - 0s 14ms/step - loss: 0.5679 - accuracy: 0.8030\n",
      "Epoch 21/50\n",
      "5/5 [==============================] - 0s 14ms/step - loss: 0.4105 - accuracy: 0.8561\n",
      "Epoch 22/50\n",
      "5/5 [==============================] - 0s 15ms/step - loss: 0.5424 - accuracy: 0.7879\n",
      "Epoch 23/50\n",
      "5/5 [==============================] - 0s 15ms/step - loss: 0.4935 - accuracy: 0.8182\n",
      "Epoch 24/50\n",
      "5/5 [==============================] - 0s 15ms/step - loss: 0.3967 - accuracy: 0.8409\n",
      "Epoch 25/50\n",
      "5/5 [==============================] - 0s 15ms/step - loss: 0.3873 - accuracy: 0.8409\n",
      "Epoch 26/50\n",
      "5/5 [==============================] - 0s 15ms/step - loss: 0.3784 - accuracy: 0.8788\n",
      "Epoch 27/50\n",
      "5/5 [==============================] - 0s 16ms/step - loss: 0.4049 - accuracy: 0.8485\n",
      "Epoch 28/50\n",
      "5/5 [==============================] - 0s 16ms/step - loss: 0.3636 - accuracy: 0.8561\n",
      "Epoch 29/50\n",
      "5/5 [==============================] - 0s 18ms/step - loss: 0.2408 - accuracy: 0.9318\n",
      "Epoch 30/50\n",
      "5/5 [==============================] - 0s 17ms/step - loss: 0.2574 - accuracy: 0.8788\n",
      "Epoch 31/50\n",
      "5/5 [==============================] - 0s 17ms/step - loss: 0.3448 - accuracy: 0.8939\n",
      "Epoch 32/50\n",
      "5/5 [==============================] - 0s 17ms/step - loss: 0.2907 - accuracy: 0.9242\n",
      "Epoch 33/50\n",
      "5/5 [==============================] - 0s 17ms/step - loss: 0.3108 - accuracy: 0.8939\n",
      "Epoch 34/50\n",
      "5/5 [==============================] - 0s 16ms/step - loss: 0.2665 - accuracy: 0.8939\n",
      "Epoch 35/50\n",
      "5/5 [==============================] - 0s 17ms/step - loss: 0.2934 - accuracy: 0.8864\n",
      "Epoch 36/50\n",
      "5/5 [==============================] - 0s 17ms/step - loss: 0.2580 - accuracy: 0.9015\n",
      "Epoch 37/50\n",
      "5/5 [==============================] - 0s 17ms/step - loss: 0.1863 - accuracy: 0.9091\n",
      "Epoch 38/50\n",
      "5/5 [==============================] - 0s 16ms/step - loss: 0.1516 - accuracy: 0.9545\n",
      "Epoch 39/50\n",
      "5/5 [==============================] - 0s 17ms/step - loss: 0.1208 - accuracy: 0.9621\n",
      "Epoch 40/50\n",
      "5/5 [==============================] - 0s 18ms/step - loss: 0.1214 - accuracy: 0.9470\n",
      "Epoch 41/50\n",
      "5/5 [==============================] - 0s 20ms/step - loss: 0.1058 - accuracy: 0.9697\n",
      "Epoch 42/50\n",
      "5/5 [==============================] - 0s 22ms/step - loss: 0.1299 - accuracy: 0.9470\n",
      "Epoch 43/50\n",
      "5/5 [==============================] - 0s 23ms/step - loss: 0.2608 - accuracy: 0.9318\n",
      "Epoch 44/50\n",
      "5/5 [==============================] - 0s 23ms/step - loss: 0.5095 - accuracy: 0.8409\n",
      "Epoch 45/50\n",
      "5/5 [==============================] - 0s 24ms/step - loss: 0.3076 - accuracy: 0.8788\n",
      "Epoch 46/50\n",
      "5/5 [==============================] - 0s 23ms/step - loss: 0.2022 - accuracy: 0.9242\n",
      "Epoch 47/50\n",
      "5/5 [==============================] - 0s 24ms/step - loss: 0.2197 - accuracy: 0.9242\n",
      "Epoch 48/50\n",
      "5/5 [==============================] - 0s 22ms/step - loss: 0.1606 - accuracy: 0.9470\n",
      "Epoch 49/50\n",
      "5/5 [==============================] - 0s 21ms/step - loss: 0.1469 - accuracy: 0.9697\n",
      "Epoch 50/50\n",
      "5/5 [==============================] - 0s 20ms/step - loss: 0.1143 - accuracy: 0.9545\n"
     ]
    },
    {
     "data": {
      "text/plain": [
       "<tensorflow.python.keras.callbacks.History at 0x272c0940488>"
      ]
     },
     "execution_count": 82,
     "metadata": {},
     "output_type": "execute_result"
    }
   ],
   "source": [
    "model.fit(X_train_ind , y_train_hot , epochs = 50 , batch_size = 32 , shuffle = True )"
   ]
  },
  {
   "cell_type": "code",
   "execution_count": 86,
   "metadata": {},
   "outputs": [
    {
     "name": "stdout",
     "output_type": "stream",
     "text": [
      "2/2 [==============================] - 0s 3ms/step - loss: 0.2688 - accuracy: 0.8929\n",
      "Loss :  0.2687842845916748\n",
      "Accuracy of test set :  0.8928571343421936\n"
     ]
    }
   ],
   "source": [
    "loss , acur = model.evaluate(X_test_ind , y_test_hot)\n",
    "print(\"Loss : \", loss)\n",
    "print(\"Accuracy of test set : \" , acur)"
   ]
  },
  {
   "cell_type": "code",
   "execution_count": 87,
   "metadata": {},
   "outputs": [
    {
     "name": "stdout",
     "output_type": "stream",
     "text": [
      "Expected emoji:😄 prediction: she got me a nice present\t❤️\n",
      "Expected emoji:😞 prediction: work is hard\t😄\n",
      "Expected emoji:😞 prediction: This girl is messing with me\t❤️\n",
      "Expected emoji:😞 prediction: work is horrible\t😄\n",
      "Expected emoji:🍴 prediction: any suggestions for dinner\t😄\n",
      "Expected emoji:❤️ prediction: I love taking breaks\t😄\n"
     ]
    }
   ],
   "source": [
    "C = 5\n",
    "pred = model.predict(X_test_ind)\n",
    "for i in range(len(X_test)):\n",
    "    x = X_test_ind\n",
    "    num = np.argmax(pred[i])\n",
    "    if(num != y_test[i]):\n",
    "        print('Expected emoji:'+ label_to_emoji(y_test[i]) + ' prediction: '+ X_test[i] + label_to_emoji(num).strip())"
   ]
  },
  {
   "cell_type": "code",
   "execution_count": 141,
   "metadata": {},
   "outputs": [
    {
     "name": "stdout",
     "output_type": "stream",
     "text": [
      "i love to eat pizza 🍴\n"
     ]
    }
   ],
   "source": [
    "x = np.array(['i love to eat pizza'])\n",
    "X_ind = sentences_to_indices(x, word_to_index, maxLen)\n",
    "print(x[0] +' '+  label_to_emoji(np.argmax(model.predict(X_ind))))"
   ]
  },
  {
   "cell_type": "code",
   "execution_count": null,
   "metadata": {},
   "outputs": [],
   "source": []
  }
 ],
 "metadata": {
  "kernelspec": {
   "display_name": "Python 3",
   "language": "python",
   "name": "python3"
  },
  "language_info": {
   "codemirror_mode": {
    "name": "ipython",
    "version": 3
   },
   "file_extension": ".py",
   "mimetype": "text/x-python",
   "name": "python",
   "nbconvert_exporter": "python",
   "pygments_lexer": "ipython3",
   "version": "3.7.7"
  }
 },
 "nbformat": 4,
 "nbformat_minor": 4
}
